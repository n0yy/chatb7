{
 "cells": [
  {
   "cell_type": "code",
   "execution_count": 16,
   "metadata": {},
   "outputs": [],
   "source": [
    "import toml\n",
    "import time\n",
    "from uuid import uuid4\n",
    "from google.cloud import firestore\n",
    "from google.oauth2 import service_account\n",
    "\n",
    "secrets = toml.load(\"../.streamlit/secrets.toml\")[\"firebase\"]\n",
    "creds = service_account.Credentials.from_service_account_info(secrets)\n",
    "db = firestore.Client(credentials=creds, project=secrets[\"project_id\"])"
   ]
  },
  {
   "cell_type": "markdown",
   "metadata": {},
   "source": [
    "# Create"
   ]
  },
  {
   "cell_type": "code",
   "execution_count": 19,
   "metadata": {},
   "outputs": [
    {
     "name": "stdout",
     "output_type": "stream",
     "text": [
      "55d77b7f-a29b-4267-b1e0-809c50077d83 Has been saved!\n"
     ]
    }
   ],
   "source": [
    "user_id = str(uuid4())\n",
    "name = \"John Doe\"\n",
    "message = \"Thats cool app\"\n",
    "datetime = time.strftime(\"%Y-%m-%d %H:%M:%S\")\n",
    "\n",
    "doc_ref = db.collection(\"feedback\").document(user_id)\n",
    "doc_ref.set({\n",
    "    \"name\": name,\n",
    "    \"message\": message,\n",
    "    \"datetime\": datetime\n",
    "})\n",
    "print(f\"{doc_ref.id} Has been saved!\")"
   ]
  },
  {
   "cell_type": "markdown",
   "metadata": {},
   "source": [
    "# Read"
   ]
  },
  {
   "cell_type": "code",
   "execution_count": 23,
   "metadata": {},
   "outputs": [
    {
     "name": "stdout",
     "output_type": "stream",
     "text": [
      "{'message': 'Thats cool app', 'datetime': '2025-03-21 07:25:14', 'name': 'John Doe'}\n",
      "John Doe ada di feedback collection\n"
     ]
    }
   ],
   "source": [
    "feedback_collection = db.collection(\"feedback\").stream()\n",
    "for doc in feedback_collection:\n",
    "    print(doc.to_dict())\n",
    "\n",
    "# Read doc by id\n",
    "doc_ref = db.collection(\"feedback\").document(user_id)\n",
    "doc = doc_ref.get()\n",
    "if doc.exists:\n",
    "    print(f\"{doc.to_dict()['name']} ada di feedback collection\")\n",
    "else:\n",
    "    print(f\"User tidak ada di feedback collection\")"
   ]
  },
  {
   "cell_type": "markdown",
   "metadata": {},
   "source": [
    "# Update"
   ]
  },
  {
   "cell_type": "code",
   "execution_count": 25,
   "metadata": {},
   "outputs": [
    {
     "name": "stdout",
     "output_type": "stream",
     "text": [
      "55d77b7f-a29b-4267-b1e0-809c50077d83 Has been updated!\n"
     ]
    }
   ],
   "source": [
    "doc_ref = db.collection(\"feedback\").document(user_id)\n",
    "doc_ref.update({\n",
    "    \"name\": \"Joen Doedoel\",\n",
    "    \"status\": \"updated\"\n",
    "})\n",
    "print(f\"{doc_ref.id} Has been updated!\")"
   ]
  },
  {
   "cell_type": "markdown",
   "metadata": {},
   "source": [
    "# Delete"
   ]
  },
  {
   "cell_type": "code",
   "execution_count": 26,
   "metadata": {},
   "outputs": [
    {
     "name": "stdout",
     "output_type": "stream",
     "text": [
      "55d77b7f-a29b-4267-b1e0-809c50077d83 Has been deleted!\n"
     ]
    }
   ],
   "source": [
    "doc_ref.delete()\n",
    "print(f\"{doc_ref.id} Has been deleted!\")"
   ]
  }
 ],
 "metadata": {
  "kernelspec": {
   "display_name": ".venv",
   "language": "python",
   "name": "python3"
  },
  "language_info": {
   "codemirror_mode": {
    "name": "ipython",
    "version": 3
   },
   "file_extension": ".py",
   "mimetype": "text/x-python",
   "name": "python",
   "nbconvert_exporter": "python",
   "pygments_lexer": "ipython3",
   "version": "3.10.16"
  }
 },
 "nbformat": 4,
 "nbformat_minor": 2
}
