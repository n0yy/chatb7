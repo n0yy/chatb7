{
 "cells": [
  {
   "cell_type": "code",
   "execution_count": 1,
   "metadata": {},
   "outputs": [],
   "source": [
    "from pptx import Presentation\n",
    "\n",
    "def load_pptx(path: str) -> list:\n",
    "    slides = Presentation(path)\n",
    "    texts = []\n",
    "    for slide in slides.slides:\n",
    "        for shape in slide.shapes:\n",
    "            if hasattr(shape, \"text\"):\n",
    "                texts.append(shape.text)\n",
    "    return texts"
   ]
  },
  {
   "cell_type": "code",
   "execution_count": 4,
   "metadata": {},
   "outputs": [
    {
     "data": {
      "text/plain": [
       "['predictive product leakage',\n",
       " 'Danang hapis fadillah',\n",
       " '2',\n",
       " 'Graduated Machine Learning Cohort - Bangkit Academy led by Google, Tokopedia, Gojek, & Traveloka\\nGoogle Developer Student Club Universitas Indonesia\\nWeb Developer at Fiverr since 2022\\nGEMASTIK 2024 at Data Mining Field',\n",
       " 'The last activity',\n",
       " 'InterSim AI',\n",
       " 'Our Journal about Psychology and AI',\n",
       " '3',\n",
       " 'Psychobot ai',\n",
       " 'AGENDA']"
      ]
     },
     "execution_count": 4,
     "metadata": {},
     "output_type": "execute_result"
    }
   ],
   "source": [
    "texts = load_pptx(\"../data/preventing_product_leakage.pptx\")\n",
    "texts[:10]"
   ]
  },
  {
   "cell_type": "code",
   "execution_count": 6,
   "metadata": {},
   "outputs": [
    {
     "data": {
      "text/plain": [
       "'predictive product leakage Danang hapis fadillah 2 Graduated Machine Learning Cohort - Bangkit Academy led by Google, Tokopedia, Gojek, & Traveloka\\nGoogle Developer Student Club Universitas Indonesia\\nWeb Developer at Fiverr since 2022\\nGEMASTIK 2024 at Data Mining Field The last activity InterSim AI Our Journal about Psychology and AI 3 Psychobot ai AGENDA Common Causes of Product Leaks\\nWhy Use Machine Learning?\\nWhat Data Needed to Build Machine Learning Model?\\nData Preprocessing\\nWorkflow 7 Common Causes of Product Leaks Material packaging failure\\nErrors in the production process (for example imperfect sealing)\\nImbalance of liquid volume in packaging Preventing Using Machine Learning Why Use Machine Learning? What are the benefits of implementing Machine Learning?\\nAutomatic and real-time leakage detection\\nIncreased efficiency and accuracy compared to manual methods\\nMinimizing defective products and reducing production costs 10 What Data Needed to Build Machine Learning Model? Sensor Data and preprocessing Techniques Required Data Types: Datetime → Timestamp from start to end while production process\\nTemperature Sensor → Detects temperature changes that may affect packaging\\n-\\n-\\n-\\nClassification Data → Labels data for product condition (whether it is leaking or not) (yes/no) Data Preprocessing Steps: Data Collection\\nData Normalization\\nFeatures Extraction\\nSplitting data for training and testing (80% training, 20% testing) 12 Production pipeline 13  Sensor A = 2\\nSensor B = 6\\nSensor C = 9 BOCOR? Dataset look like 14  15 “ A good model comes from good data. “ Training & Eval phases Model training with various algorithms\\nModel performance evaluation uses accuracy ML Algorithms XGBoost LightGBM SVM Etc.. After Training Model What Should We Do? 17 Integration with control systems for automatic preventive measures\\n\\nFor Example:\\nShutdown Automation\\nTurn On the Alarm\\nAdjusting a producing process Workflow 18 Data Collection Bad Model Good Model Control System Integration (Inference) Raspberry Pi THANK YOU 19 20 Web App LinkedIn Email'"
      ]
     },
     "execution_count": 6,
     "metadata": {},
     "output_type": "execute_result"
    }
   ],
   "source": [
    "combined_texts = \" \".join(texts)\n",
    "combined_texts"
   ]
  },
  {
   "cell_type": "code",
   "execution_count": null,
   "metadata": {},
   "outputs": [],
   "source": []
  }
 ],
 "metadata": {
  "kernelspec": {
   "display_name": "venv",
   "language": "python",
   "name": "python3"
  },
  "language_info": {
   "codemirror_mode": {
    "name": "ipython",
    "version": 3
   },
   "file_extension": ".py",
   "mimetype": "text/x-python",
   "name": "python",
   "nbconvert_exporter": "python",
   "pygments_lexer": "ipython3",
   "version": "3.11.9"
  }
 },
 "nbformat": 4,
 "nbformat_minor": 2
}
